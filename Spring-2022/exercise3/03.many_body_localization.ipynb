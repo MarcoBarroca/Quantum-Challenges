{
 "cells": [
  {
   "cell_type": "code",
   "execution_count": 10,
   "id": "7152f2bf-5b38-470a-a523-6398a51c2c16",
   "metadata": {},
   "outputs": [],
   "source": [
    "import numpy as np\n",
    "import matplotlib.pyplot as plt\n",
    "\n",
    "# Importing standard Qiskit libraries\n",
    "from qiskit import QuantumCircuit, QuantumRegister, transpile, Aer, IBMQ, execute\n",
    "from qiskit.tools.jupyter import *\n",
    "from qiskit.visualization import *\n",
    "from qiskit.providers.aer import QasmSimulator\n",
    "from tqdm.notebook import tqdm\n",
    "\n",
    "from qiskit.providers.aer import QasmSimulator\n",
    "from qiskit.tools.monitor import job_monitor\n",
    "from qiskit.circuit import Parameter\n",
    "import qiskit.quantum_info as qi\n",
    "\n",
    "from qc_grader.challenges.spring_2022.helpers import generate_disordered_tb_instruction\n",
    "\n",
    "# Suppress warnings\n",
    "import warnings\n",
    "warnings.filterwarnings('ignore')"
   ]
  },
  {
   "cell_type": "markdown",
   "id": "fe9e4c6f",
   "metadata": {},
   "source": [
    "## Many-body quantum dynamics\n",
    "\n",
    "In this exercise we examine lattice disorder and particle-particle interaction. A closed quantum many-body system initialized in a non-equilibrium will reach the equilibrium state, refered to as thermalization, under its own dynamics. This behavior is as a result of the laws of statistical mechanics, and analogous to a hot cup of coffee cooling down to the surronding tempreture if left unattended. \n",
    "\n",
    "However, the presence of lattice disorder prevents the system from evolving into an egodic thermalized state. This interplay between disorder and particle interaction results in many-body localization (MBL), and it allows the system to retain a memory of its initial condition at all times. For more information about MBL refer to [1]\n",
    "\n",
    "Let's again consider the tight-binding Hamiltonian with arbitrary site energies:\n",
    "\n",
    "$$H_{\\rm tb}/\\hbar = \\sum^{3}_{i=0} (X_i X_{i+1} + Y_i Y_{i+1}) + \\sum_i \\epsilon_i Z_i $$\n",
    "\n",
    "As we explored in exercise 2, we can emulate disorder in this system by setting $\\epsilon_i=W \\rm{cos}(2\\pi\\beta i)$, where $W$ is the disorder strength, and $\\beta$ determines the quasicrystal periodicity. We can add multiple particles to the system by initalizing multiple qubits to the $|1\\rangle$ state prior to the unitary time evolution. Under $H_{\\rm tb}$, each site can only be occupied by a single particle, resulting in particle repulsion interaction.\n",
    "\n",
    "[1] https://arxiv.org/abs/1804.11065"
   ]
  },
  {
   "cell_type": "markdown",
   "id": "324e267a",
   "metadata": {},
   "source": [
    "One of the signatures of the breakdown of thermalization is the emergence of **imbalance**. In a thermalized system, we expect each site of the lattice to be occupied by the same average number of particles after reaching steady state. However, adding disorder to the interacting system will result in deviations from the thermal value observed on each site. The system imbalance can be quantified using the following expression:\n",
    "\n",
    "$$\\mathcal{I}= \\langle (N_e-N_o)/(N_e+N_o) \\rangle$$\n",
    "\n",
    "where $N_e$ and $N_o$ are the even and odd site populations of the system. For a thermalized system this $\\mathcal{I}=0$, and system disorder will cause deviations from this value."
   ]
  },
  {
   "cell_type": "markdown",
   "id": "bfe79af8",
   "metadata": {},
   "source": [
    "<div class=\"alert alert-block alert-danger\">\n",
    "    \n",
    "<b>Challenge question 3a</b> \n",
    "\n",
    "Write a function that outputs the imbalance of a quantum state\n",
    "    \n",
    "</div>"
   ]
  },
  {
   "cell_type": "code",
   "execution_count": 189,
   "id": "3f428318",
   "metadata": {},
   "outputs": [],
   "source": [
    "def get_imbalance(state):\n",
    "    ###EDIT CODE BELOW\n",
    "    ### HINT: MAKE SURE TO SKIP CALCULATING IMBALANCE OF THE |00...0> STATE\n",
    "    num_qubits=state.num_qubits\n",
    "    d_st=state.probabilities_dict()\n",
    "    wt=[]\n",
    "    imb=[]\n",
    "\n",
    "    for i,j in d_st.items():\n",
    "        bits=np.array(list(i))\n",
    "        bits=bits.astype(np.int)\n",
    "        if np.all(bits==0):\n",
    "            imb.append(0)\n",
    "            wt.append(j)\n",
    "            continue\n",
    "        ne=0\n",
    "        no=0\n",
    "        wt.append(j)\n",
    "        for i in range(0,len(bits)):\n",
    "            if bits[i]==1:\n",
    "                if i%2==0:\n",
    "                    ne+=1\n",
    "                else:\n",
    "                    no+=1\n",
    "        imb.append((ne-no)/(ne+no))  \n",
    "        \n",
    "    imbalance_val=np.average(imb,weights=wt)\n",
    "    \n",
    "    ###DO NOT EDIT BELOW\n",
    "    \n",
    "    return imbalance_val"
   ]
  },
  {
   "cell_type": "code",
   "execution_count": 179,
   "id": "f83f72d5-15a0-4b44-befc-2a0824d50b5d",
   "metadata": {},
   "outputs": [
    {
     "data": {
      "text/plain": [
       "1.0"
      ]
     },
     "execution_count": 179,
     "metadata": {},
     "output_type": "execute_result"
    }
   ],
   "source": [
    "#DRAFT SPACE\n",
    "\n",
    "from qiskit.quantum_info import Statevector\n",
    "stv0=Statevector.from_label('000')\n",
    "stv1=Statevector.from_label('101')\n",
    "stv=stv0+stv1\n",
    "\n",
    "num_qubits=stv.num_qubits\n",
    "d_st=stv.probabilities_dict()\n",
    "N=len(d_st)\n",
    "wt=[]\n",
    "imb=[]\n",
    "imbalance=0\n",
    "for i,j in d_st.items():\n",
    "    bits=np.array(list(i))\n",
    "    bits=bits.astype(np.int)\n",
    "    if np.all(bits==0):\n",
    "        imb.append(0)\n",
    "        wt.append(j)\n",
    "        continue\n",
    "    ne=0\n",
    "    no=0\n",
    "    wt.append(j)\n",
    "    for i in range(0,len(bits)):\n",
    "        if bits[i]==1:\n",
    "            if i%2==0:\n",
    "                ne+=1\n",
    "            else:\n",
    "                no+=1\n",
    "      \n",
    "    imb.append(ne-no/ne+no)  \n",
    "\n",
    "imbalance=np.average(imb,weights=wt)\n",
    "        \n",
    "    \n",
    "    \n",
    "imbalance"
   ]
  },
  {
   "cell_type": "code",
   "execution_count": 190,
   "id": "5f6fdd44",
   "metadata": {},
   "outputs": [
    {
     "name": "stdout",
     "output_type": "stream",
     "text": [
      "Submitting your answer. Please wait...\n",
      "Congratulations 🎉! Your answer is correct and has been submitted.\n"
     ]
    }
   ],
   "source": [
    "## Grade and submit your solution\n",
    "from qc_grader.challenges.spring_2022 import grade_ex3a\n",
    "\n",
    "grade_ex3a(get_imbalance)\n"
   ]
  },
  {
   "cell_type": "markdown",
   "id": "276339f9",
   "metadata": {},
   "source": [
    "Next, we consider how quantum information and entanglement entropy grows in the system. In an entangled system, ignoring information about the remaining system puts the subsystem into a mixed state of different number states. We can probe the **von Neumann entropy** to gain insight into the degree of entanglement between subsystem $A$ and the remaining of the system:\n",
    "\n",
    "$$\\mathcal{S}_{\\rm vn}(\\rho_A)= -\\rm{tr}(\\rho_A \\rm{ln} \\rho_A)$$\n",
    "\n",
    "Here, $\\rho_A= \\rm{tr}_{\\bar{A}} \\rho$ is the reduced density matrix describing subsytem $A$ when we trace out the rest of the system. If a subsytem $A$ is fully entangled with the rest of the system, $\\mathcal{S}_{\\rm vn}(\\rho_A) = \\rm{ln}2$, whereas if the subsytem is completely separable (in a product state) with respect to its environment $\\mathcal{S}_{\\rm vn}(\\rho_A)=0$. Consider the example below:"
   ]
  },
  {
   "cell_type": "code",
   "execution_count": 207,
   "id": "b0e069e1",
   "metadata": {},
   "outputs": [
    {
     "name": "stdout",
     "output_type": "stream",
     "text": [
      "QB0 vn entropy:  0.6931471805599454\n",
      "QB1 vn entropy:  0.6931471805599454\n"
     ]
    }
   ],
   "source": [
    "bell_state = qi.Statevector(np.array([0,1,1,0])/np.sqrt(2))\n",
    "\n",
    "rho_0 = qi.partial_trace(bell_state,[1]) # We trace out qubit 1\n",
    "rho_1 = qi.partial_trace(bell_state,[0]) # We trace out qubit 0\n",
    "\n",
    "print('QB0 vn entropy: ', qi.entropy(rho_0, base=np.exp(1)))\n",
    "print('QB1 vn entropy: ', qi.entropy(rho_1, base=np.exp(1)))"
   ]
  },
  {
   "cell_type": "markdown",
   "id": "a80d1c7f",
   "metadata": {},
   "source": [
    "## Probing the many-body quantum dynamics in a 12 qubit chain\n",
    "\n",
    "For this part of the exercise, we use the same lattice disorder pattern as we explored in exercise 2."
   ]
  },
  {
   "cell_type": "code",
   "execution_count": 192,
   "id": "6d790e43-7e59-40b3-9a3a-806e7df15b70",
   "metadata": {},
   "outputs": [],
   "source": [
    "t = Parameter('t')"
   ]
  },
  {
   "cell_type": "code",
   "execution_count": 193,
   "id": "0ab29437",
   "metadata": {},
   "outputs": [],
   "source": [
    "num_qubits=12\n",
    "deltas=[Parameter('delta_{:d}'.format(idx)) for idx in range(num_qubits)]\n",
    "disorder_trot_step=generate_disordered_tb_instruction(t, deltas, num_qubits)"
   ]
  },
  {
   "cell_type": "code",
   "execution_count": 194,
   "id": "e1ae8b4e",
   "metadata": {},
   "outputs": [],
   "source": [
    "# Here we define the disorder pattern\n",
    "\n",
    "beta=(np.sqrt(5)-1)/2 # DO NOT EDIT\n",
    "AA_pattern=np.cos(2*np.pi*beta*np.arange(num_qubits)) # DO NOT EDIT"
   ]
  },
  {
   "cell_type": "markdown",
   "id": "73f306b7",
   "metadata": {},
   "source": [
    "<div class=\"alert alert-block alert-danger\">\n",
    "    \n",
    "<b>Challenge question 3b</b> \n",
    "\n",
    "Initialize the system by setting qubits 0, 4, and 8 to $|1\\rangle$.\n",
    "    \n",
    "</div>"
   ]
  },
  {
   "cell_type": "code",
   "execution_count": 195,
   "id": "1941aa83",
   "metadata": {},
   "outputs": [],
   "source": [
    "delta_t=0.1\n",
    "time_steps=np.arange(0,21,2)\n",
    "\n",
    "circuits={}\n",
    "Ws=[1,4,10]\n",
    "\n",
    "for W in Ws:\n",
    "    disorders=W*AA_pattern\n",
    "    \n",
    "    circuits[W]=[]\n",
    "\n",
    "    for n_steps in time_steps:\n",
    "\n",
    "        qr = QuantumRegister(num_qubits)\n",
    "        qc = QuantumCircuit(qr)\n",
    "\n",
    "        ###EDIT CODE BELOW\n",
    "        qc.x([0,4,8])\n",
    "        \n",
    "        ###DO NOT EDIT BELOW     \n",
    "\n",
    "        for _ in range(n_steps):\n",
    "            qc.append(disorder_trot_step, [i for i in range(num_qubits)])\n",
    "        \n",
    "        if n_steps!=0:\n",
    "            qc = qc.bind_parameters({t: delta_t})\n",
    "            qc = qc.bind_parameters({deltas[idx]: disorders[idx] for idx in range(num_qubits)})\n",
    "\n",
    "        circuits[W].append(qc)"
   ]
  },
  {
   "cell_type": "markdown",
   "id": "68d6bb10",
   "metadata": {},
   "source": [
    "<div class=\"alert alert-block alert-danger\">\n",
    "    \n",
    "<b>Challenge question 3c</b> \n",
    "\n",
    "Extract the von Neumann entropy of qubit 0 at different evolution time steps for different disorder strengths.\n",
    "    \n",
    "</div>"
   ]
  },
  {
   "cell_type": "markdown",
   "id": "7daa18a2",
   "metadata": {},
   "source": [
    "<div class=\"alert alert-block alert-danger\">\n",
    "    \n",
    "<b>Challenge question 3d</b> \n",
    "\n",
    "Extract the imbalance of the lattice at different evolution time steps for different disorder strengths.\n",
    "    \n",
    "</div>"
   ]
  },
  {
   "cell_type": "code",
   "execution_count": 237,
   "id": "ba1ac736",
   "metadata": {
    "scrolled": true
   },
   "outputs": [
    {
     "data": {
      "application/vnd.jupyter.widget-view+json": {
       "model_id": "2f7443115ea846b981b96f1c54b15783",
       "version_major": 2,
       "version_minor": 0
      },
      "text/plain": [
       "  0%|          | 0/3 [00:00<?, ?it/s]"
      ]
     },
     "metadata": {},
     "output_type": "display_data"
    }
   ],
   "source": [
    "from qiskit import transpile\n",
    "\n",
    "# Use Aer's statevector simulator\n",
    "from qiskit import Aer\n",
    "\n",
    "# Run the quantum circuit on a statevector simulator backend\n",
    "backend_sim = Aer.get_backend('statevector_simulator')\n",
    "\n",
    "probability_densities={}\n",
    "state_vector_imbalances={}\n",
    "vn_entropies={}\n",
    "\n",
    "for W in tqdm(Ws):\n",
    "    probability_densities[W]=[]\n",
    "    state_vector_imbalances[W]=[]\n",
    "    vn_entropies[W]=[]\n",
    "    \n",
    "    for circ in circuits[W]:\n",
    "\n",
    "        transpiled_circ=transpile(circ, backend_sim, optimization_level=3)\n",
    "\n",
    "        job_sim = backend_sim.run(transpiled_circ)\n",
    "\n",
    "        # Grab the results from the job.\n",
    "        result_sim = job_sim.result()\n",
    "        outputstate = result_sim.get_statevector(transpiled_circ, decimals=6)\n",
    "        ps=[]\n",
    "        for idx in range(num_qubits):\n",
    "            ps.append(np.abs(qi.partial_trace(outputstate,[i for i in range(num_qubits) if i!=idx]))[1,1]**2)\n",
    "        \n",
    "        entropy=0\n",
    "        ### EDIT CODE BELOW (extract the density matrix of qubit 0 by tracing out all other qubits)\n",
    "       \n",
    "        bs=qi.partial_trace(outputstate,[i for i in range(num_qubits) if i!=0])\n",
    "        entropy=qi.entropy(bs, base=np.exp(1))\n",
    "        \n",
    "    \n",
    "        ###DO NOT EDIT BELOW \n",
    "        \n",
    "        imbalance=0\n",
    "        ### EDIT CODE BELOW \n",
    "        \n",
    "        imbalance=get_imbalance(outputstate)\n",
    "        \n",
    "        ###DO NOT EDIT BELOW\n",
    "        \n",
    "        \n",
    "        vn_entropies[W].append(entropy)\n",
    "        probability_densities[W].append(ps)\n",
    "        state_vector_imbalances[W].append(imbalance)"
   ]
  },
  {
   "cell_type": "code",
   "execution_count": 224,
   "id": "3b728147",
   "metadata": {
    "scrolled": true
   },
   "outputs": [
    {
     "data": {
      "image/png": "[encoded data removed]",
      "text/plain": [
       "<Figure size 1080x360 with 3 Axes>"
      ]
     },
     "metadata": {},
     "output_type": "display_data"
    }
   ],
   "source": [
    "fig, axs = plt.subplots(1,3,figsize=(15,5), facecolor='white', sharey=True)\n",
    "\n",
    "for i,W in enumerate(Ws):\n",
    "    ax=axs[i]\n",
    "    ax.pcolormesh(np.arange(0,num_qubits,1), time_steps*delta_t ,probability_densities[W])\n",
    "    ax.set_xlabel('Qubit index')\n",
    "    ax.set_xticks(np.arange(1,num_qubits+1,1))\n",
    "\n",
    "axs[0].set_ylabel('Time (1/J)')\n",
    "\n",
    "plt.show()"
   ]
  },
  {
   "cell_type": "code",
   "execution_count": 238,
   "id": "cff7aa4e",
   "metadata": {},
   "outputs": [
    {
     "data": {
      "image/png": "[encoded data removed]",
      "text/plain": [
       "<Figure size 432x288 with 1 Axes>"
      ]
     },
     "metadata": {
      "needs_background": "light"
     },
     "output_type": "display_data"
    }
   ],
   "source": [
    "for W in Ws:\n",
    "    plt.plot(time_steps*delta_t,vn_entropies[W], '--o', label='W={:d}'.format(W))\n",
    "\n",
    "plt.xlabel(r'Time (1/J)')\n",
    "plt.ylabel(r'$\\mathcal{S}_{\\rm vn}(\\rho_0)$')\n",
    "plt.legend()\n",
    "plt.show()"
   ]
  },
  {
   "cell_type": "code",
   "execution_count": 239,
   "id": "c98610e8",
   "metadata": {},
   "outputs": [
    {
     "name": "stdout",
     "output_type": "stream",
     "text": [
      "Submitting your answer. Please wait...\n",
      "Congratulations 🎉! Your answer is correct and has been submitted.\n"
     ]
    }
   ],
   "source": [
    "## Grade and submit your solution\n",
    "from qc_grader.challenges.spring_2022 import grade_ex3b\n",
    "\n",
    "grade_ex3b(vn_entropies)\n"
   ]
  },
  {
   "cell_type": "code",
   "execution_count": 227,
   "id": "9ed1e6a0",
   "metadata": {},
   "outputs": [
    {
     "data": {
      "image/png": "[encoded data removed]",
      "text/plain": [
       "<Figure size 432x288 with 1 Axes>"
      ]
     },
     "metadata": {
      "needs_background": "light"
     },
     "output_type": "display_data"
    }
   ],
   "source": [
    "for W in Ws:\n",
    "    plt.plot(time_steps*delta_t,state_vector_imbalances[W], '--o', label='W={:d}'.format(W))\n",
    "\n",
    "plt.xlabel(r'Time (1/J)')\n",
    "plt.ylabel(r'$\\mathcal{I}$')\n",
    "plt.legend()\n",
    "plt.show()"
   ]
  },
  {
   "cell_type": "code",
   "execution_count": 228,
   "id": "a141777d",
   "metadata": {},
   "outputs": [
    {
     "name": "stdout",
     "output_type": "stream",
     "text": [
      "Submitting your answer. Please wait...\n",
      "Congratulations 🎉! Your answer is correct and has been submitted.\n"
     ]
    }
   ],
   "source": [
    "## Grade and submit your solution\n",
    "from qc_grader.challenges.spring_2022 import grade_ex3c\n",
    "\n",
    "grade_ex3c(state_vector_imbalances)\n"
   ]
  },
  {
   "cell_type": "code",
   "execution_count": null,
   "id": "d71845b2-aed1-4ef7-a3e4-348ec8ab63a7",
   "metadata": {},
   "outputs": [],
   "source": []
  }
 ],
 "metadata": {
  "kernelspec": {
   "display_name": "Qiskit v0.35.0 (ipykernel)",
   "language": "python",
   "name": "python3"
  },
  "language_info": {
   "codemirror_mode": {
    "name": "ipython",
    "version": 3
   },
   "file_extension": ".py",
   "mimetype": "text/x-python",
   "name": "python",
   "nbconvert_exporter": "python",
   "pygments_lexer": "ipython3",
   "version": "3.8.13"
  },
  "widgets": {
   "application/vnd.jupyter.widget-state+json": {
    "state": {
     "00508bc9993e4b9582f30adaec9a5315": {
      "model_module": "@jupyter-widgets/base",
      "model_module_version": "1.2.0",
      "model_name": "LayoutModel",
      "state": {}
     },
     "0150b9b04f76409d9719dcd6089349c2": {
      "model_module": "@jupyter-widgets/base",
      "model_module_version": "1.2.0",
      "model_name": "LayoutModel",
      "state": {}
     },
     "043dcffd7d59412ab62c042c3d5abac2": {
      "model_module": "@jupyter-widgets/controls",
      "model_module_version": "1.5.0",
      "model_name": "HTMLModel",
      "state": {
       "layout": "IPY_MODEL_ab1b439e23be46cfb0cd75a22e46bdeb",
       "style": "IPY_MODEL_d335c0b5d42741c28394496b889e97d3",
       "value": " 0/3 [00:00&lt;?, ?it/s]"
      }
     },
     "04fb5834aee2437591fafe44b605eb46": {
      "model_module": "@jupyter-widgets/controls",
      "model_module_version": "1.5.0",
      "model_name": "HBoxModel",
      "state": {
       "children": [
        "IPY_MODEL_62ec44991bf64cd1bc8195cc478635c0",
        "IPY_MODEL_e8b04bd6ca74438790e2edfcb28be61c",
        "IPY_MODEL_df5100c6984443578e324d9b1a549866"
       ],
       "layout": "IPY_MODEL_838db15a2a3546b3bdb672bd75113548"
      }
     },
     "05ca889df9844bf193dc639b1cf9c8b7": {
      "model_module": "@jupyter-widgets/controls",
      "model_module_version": "1.5.0",
      "model_name": "DescriptionStyleModel",
      "state": {
       "description_width": ""
      }
     },
     "06dd5a78f03141aabdde0e2d87ebc580": {
      "model_module": "@jupyter-widgets/controls",
      "model_module_version": "1.5.0",
      "model_name": "DescriptionStyleModel",
      "state": {
       "description_width": ""
      }
     },
     "0b04698561364d2c807cc504a88966ac": {
      "model_module": "@jupyter-widgets/controls",
      "model_module_version": "1.5.0",
      "model_name": "FloatProgressModel",
      "state": {
       "bar_style": "danger",
       "layout": "IPY_MODEL_95527b3d4b784a47b2eaab62fe83ad1a",
       "max": 3,
       "style": "IPY_MODEL_108f6c50a52d481a8e7173bc775a8183"
      }
     },
     "0d705f3006134c44a7b5d876156824e1": {
      "model_module": "@jupyter-widgets/controls",
      "model_module_version": "1.5.0",
      "model_name": "HBoxModel",
      "state": {
       "children": [
        "IPY_MODEL_27796ae087744c07bce300dd6699be44",
        "IPY_MODEL_e03c398ce8624de382cbdec27e7251fa",
        "IPY_MODEL_a969ac90273c421a8fbbbb34f3091f0f"
       ],
       "layout": "IPY_MODEL_bc88e7ddd5494c5980e9ce91678fde85"
      }
     },
     "0e57ff3e2ef34cfd98de8cf5670b5d8f": {
      "model_module": "@jupyter-widgets/base",
      "model_module_version": "1.2.0",
      "model_name": "LayoutModel",
      "state": {}
     },
     "0f3648aa895d4f85a629cb64add82897": {
      "model_module": "@jupyter-widgets/base",
      "model_module_version": "1.2.0",
      "model_name": "LayoutModel",
      "state": {}
     },
     "108f6c50a52d481a8e7173bc775a8183": {
      "model_module": "@jupyter-widgets/controls",
      "model_module_version": "1.5.0",
      "model_name": "ProgressStyleModel",
      "state": {
       "description_width": ""
      }
     },
     "1219825cf644454a85d85ab11cccaa7e": {
      "model_module": "@jupyter-widgets/controls",
      "model_module_version": "1.5.0",
      "model_name": "DescriptionStyleModel",
      "state": {
       "description_width": ""
      }
     },
     "1258efaa54514d9183be5c275426a663": {
      "model_module": "@jupyter-widgets/base",
      "model_module_version": "1.2.0",
      "model_name": "LayoutModel",
      "state": {}
     },
     "12b50efd8d6f49c2a264cbb6b58eb936": {
      "model_module": "@jupyter-widgets/controls",
      "model_module_version": "1.5.0",
      "model_name": "GridBoxModel",
      "state": {
       "children": [
        "IPY_MODEL_de3fa78a06c141298fb26766a6f2812d"
       ],
       "layout": "IPY_MODEL_f7c31c500d2e4963b5cdbb14174444e2"
      }
     },
     "12f3ff0f7cb64f5889f4013add15643e": {
      "model_module": "@jupyter-widgets/controls",
      "model_module_version": "1.5.0",
      "model_name": "FloatProgressModel",
      "state": {
       "bar_style": "danger",
       "layout": "IPY_MODEL_d81b57741563469382b249493797e3b0",
       "max": 3,
       "style": "IPY_MODEL_c3236465ee554006823e15173273f532"
      }
     },
     "14e6fe4969aa4b5fa559e9a05f7c1d1b": {
      "model_module": "@jupyter-widgets/controls",
      "model_module_version": "1.5.0",
      "model_name": "HTMLModel",
      "state": {
       "layout": "IPY_MODEL_82ab05323e0f49bd923f885c61349c93",
       "style": "IPY_MODEL_32d4567f75784fa6802e46442f0b6367",
       "value": "100%"
      }
     },
     "1585f59e05d742af874a7d7e47233b1f": {
      "model_module": "@jupyter-widgets/controls",
      "model_module_version": "1.5.0",
      "model_name": "ButtonStyleModel",
      "state": {}
     },
     "1788b105ebc541148324de5847a9f75c": {
      "model_module": "@jupyter-widgets/controls",
      "model_module_version": "1.5.0",
      "model_name": "HBoxModel",
      "state": {
       "children": [
        "IPY_MODEL_7f0312ebd426472bb45bf6b245b1b5d2",
        "IPY_MODEL_b6ceac9d7b2649e2b1ce787386b49813",
        "IPY_MODEL_043dcffd7d59412ab62c042c3d5abac2"
       ],
       "layout": "IPY_MODEL_e540e8d4d74e4d09b8743497e83a0162"
      }
     },
     "19ae3f42d6864777991867d1dfa76ffa": {
      "model_module": "@jupyter-widgets/controls",
      "model_module_version": "1.5.0",
      "model_name": "DescriptionStyleModel",
      "state": {
       "description_width": ""
      }
     },
     "1a45500191c54d0cb68f487b27a7a9ff": {
      "model_module": "@jupyter-widgets/base",
      "model_module_version": "1.2.0",
      "model_name": "LayoutModel",
      "state": {}
     },
     "1c5294befdff4587b5bd249cc9a3b760": {
      "model_module": "@jupyter-widgets/controls",
      "model_module_version": "1.5.0",
      "model_name": "FloatProgressModel",
      "state": {
       "bar_style": "danger",
       "layout": "IPY_MODEL_c2b7f419db5546f3938917d4aeed6003",
       "max": 3,
       "style": "IPY_MODEL_2f2c75d2bb3e4dada652bdfeb05a89f1"
      }
     },
     "1d1e7fc86583432da3219619b62b7d7a": {
      "model_module": "@jupyter-widgets/base",
      "model_module_version": "1.2.0",
      "model_name": "LayoutModel",
      "state": {}
     },
     "1d3a36100eab4650bb6f944174f3c302": {
      "model_module": "@jupyter-widgets/controls",
      "model_module_version": "1.5.0",
      "model_name": "HBoxModel",
      "state": {
       "children": [
        "IPY_MODEL_4b40fc986b864dd2af1b0693173680bb",
        "IPY_MODEL_1c5294befdff4587b5bd249cc9a3b760",
        "IPY_MODEL_e7b2b888267d47f3bf0893f690b773a8"
       ],
       "layout": "IPY_MODEL_33ea139daa794287bdb250470dc770d4"
      }
     },
     "1f459dc12c924e08bf5c8540422c8e3b": {
      "model_module": "@jupyter-widgets/base",
      "model_module_version": "1.2.0",
      "model_name": "LayoutModel",
      "state": {
       "width": "95px"
      }
     },
     "2173d4332f084e7fbfbfc52a2e580a19": {
      "model_module": "@jupyter-widgets/base",
      "model_module_version": "1.2.0",
      "model_name": "LayoutModel",
      "state": {}
     },
     "237a203dbf97427683d6ea9bec1a3b25": {
      "model_module": "@jupyter-widgets/controls",
      "model_module_version": "1.5.0",
      "model_name": "DescriptionStyleModel",
      "state": {
       "description_width": ""
      }
     },
     "23c089d4f7164f178631aa3ea640f4d5": {
      "model_module": "@jupyter-widgets/controls",
      "model_module_version": "1.5.0",
      "model_name": "DescriptionStyleModel",
      "state": {
       "description_width": ""
      }
     },
     "253f92b9098c4446a876105043540af0": {
      "model_module": "@jupyter-widgets/base",
      "model_module_version": "1.2.0",
      "model_name": "LayoutModel",
      "state": {}
     },
     "258f91244e28473cb09eaa82bc96fcf9": {
      "model_module": "@jupyter-widgets/controls",
      "model_module_version": "1.5.0",
      "model_name": "HBoxModel",
      "state": {
       "children": [
        "IPY_MODEL_9218c27ddd8d4763b6811614cda56af9",
        "IPY_MODEL_ba9372390e994e23afca01ab535952f4",
        "IPY_MODEL_3f383400d4ea4f1681d4a6c0af0dac28"
       ],
       "layout": "IPY_MODEL_c617adb0e1de46ea99001c034373bbce"
      }
     },
     "259c2269a40f4a9692fb2ed037c83c35": {
      "model_module": "@jupyter-widgets/base",
      "model_module_version": "1.2.0",
      "model_name": "LayoutModel",
      "state": {}
     },
     "27796ae087744c07bce300dd6699be44": {
      "model_module": "@jupyter-widgets/controls",
      "model_module_version": "1.5.0",
      "model_name": "HTMLModel",
      "state": {
       "layout": "IPY_MODEL_b2a4a182b65c418785c6d225230bb7ae",
       "style": "IPY_MODEL_4ab9d28c7790428f8cc592a80506b5e3",
       "value": "  0%"
      }
     },
     "2c171facefe7457bad595463e7d29c1d": {
      "model_module": "@jupyter-widgets/controls",
      "model_module_version": "1.5.0",
      "model_name": "HTMLModel",
      "state": {
       "layout": "IPY_MODEL_4d0cde453d0140ec9512bdbf4cbc0502",
       "style": "IPY_MODEL_6728f46decb1400ab4214c59bd4276d7",
       "value": " 0/3 [00:00&lt;?, ?it/s]"
      }
     },
     "2c46445a69714547b7a594277af87f45": {
      "model_module": "@jupyter-widgets/controls",
      "model_module_version": "1.5.0",
      "model_name": "DescriptionStyleModel",
      "state": {
       "description_width": ""
      }
     },
     "2f2c75d2bb3e4dada652bdfeb05a89f1": {
      "model_module": "@jupyter-widgets/controls",
      "model_module_version": "1.5.0",
      "model_name": "ProgressStyleModel",
      "state": {
       "description_width": ""
      }
     },
     "2f7443115ea846b981b96f1c54b15783": {
      "model_module": "@jupyter-widgets/controls",
      "model_module_version": "1.5.0",
      "model_name": "HBoxModel",
      "state": {
       "children": [
        "IPY_MODEL_6be47e99142242c49cfbec34191161c9",
        "IPY_MODEL_76e3e2d661844438bdaf2db9919a2e30",
        "IPY_MODEL_835035a8d2a2418b9578a011f81f5a53"
       ],
       "layout": "IPY_MODEL_e68dc675b7c244edb476a1ad122ea0d0"
      }
     },
     "31985e957b0f4dfcabbd1b7c5270cc5e": {
      "model_module": "@jupyter-widgets/controls",
      "model_module_version": "1.5.0",
      "model_name": "ProgressStyleModel",
      "state": {
       "description_width": ""
      }
     },
     "31da77d35fec4ba89187151a8883abaf": {
      "model_module": "@jupyter-widgets/controls",
      "model_module_version": "1.5.0",
      "model_name": "HTMLModel",
      "state": {
       "layout": "IPY_MODEL_38e759479c40410e846ca7a363ffade3",
       "style": "IPY_MODEL_d11e07bdd7e4482e8ccce3f18d3eba87",
       "value": " 0/3 [00:00&lt;?, ?it/s]"
      }
     },
     "328d8732ae614488b25256274fd67525": {
      "model_module": "@jupyter-widgets/controls",
      "model_module_version": "1.5.0",
      "model_name": "FloatProgressModel",
      "state": {
       "bar_style": "danger",
       "layout": "IPY_MODEL_829317bc510741318e59b15d5c8ce89d",
       "max": 3,
       "style": "IPY_MODEL_5ae9faab08ca4fa7b4df4906ee385803"
      }
     },
     "32af0fa1fc3c41839c523b04cb93df6e": {
      "model_module": "@jupyter-widgets/controls",
      "model_module_version": "1.5.0",
      "model_name": "HBoxModel",
      "state": {
       "children": [
        "IPY_MODEL_5308a893b3554c0ea83034b18e17725d",
        "IPY_MODEL_9d86bfc905db425fad7facfb560596d6",
        "IPY_MODEL_c1c0ca0a3558433a9239b3e31add180f"
       ],
       "layout": "IPY_MODEL_abf6eb5f62f74e8e9867aee70dbe9b77"
      }
     },
     "32d4567f75784fa6802e46442f0b6367": {
      "model_module": "@jupyter-widgets/controls",
      "model_module_version": "1.5.0",
      "model_name": "DescriptionStyleModel",
      "state": {
       "description_width": ""
      }
     },
     "3307167d1f7f4687b540a85f5e1932df": {
      "model_module": "@jupyter-widgets/base",
      "model_module_version": "1.2.0",
      "model_name": "LayoutModel",
      "state": {
       "grid_area": "right",
       "padding": "0px 0px 0px 0px",
       "width": "70px"
      }
     },
     "339f6c5e44e14b79ac65fd78df32a93c": {
      "model_module": "@jupyter-widgets/controls",
      "model_module_version": "1.5.0",
      "model_name": "ProgressStyleModel",
      "state": {
       "description_width": ""
      }
     },
     "33ea139daa794287bdb250470dc770d4": {
      "model_module": "@jupyter-widgets/base",
      "model_module_version": "1.2.0",
      "model_name": "LayoutModel",
      "state": {}
     },
     "35e0f558cc4044ecbb82452f64fe2885": {
      "model_module": "@jupyter-widgets/controls",
      "model_module_version": "1.5.0",
      "model_name": "HTMLModel",
      "state": {
       "layout": "IPY_MODEL_f769f5083e4a4088889b499b230d1384",
       "style": "IPY_MODEL_935f6be2c5fe4824a62f7f8881fe3b84",
       "value": " 0/3 [00:00&lt;?, ?it/s]"
      }
     },
     "36d317f002c24b4a95d0d3f748670105": {
      "model_module": "@jupyter-widgets/controls",
      "model_module_version": "1.5.0",
      "model_name": "HTMLModel",
      "state": {
       "layout": "IPY_MODEL_efc37c33f3354b81bc750c8f141e5827",
       "style": "IPY_MODEL_5c5ab48d2815490a8149f97cd51e98d7",
       "value": " 0/3 [00:00&lt;?, ?it/s]"
      }
     },
     "373ed719b4c54238b86554f670cf689d": {
      "model_module": "@jupyter-widgets/controls",
      "model_module_version": "1.5.0",
      "model_name": "FloatProgressModel",
      "state": {
       "bar_style": "danger",
       "layout": "IPY_MODEL_da31236421c34919afc93abc79979029",
       "max": 3,
       "style": "IPY_MODEL_339f6c5e44e14b79ac65fd78df32a93c"
      }
     },
     "37869bc59f8b4643be478f45c0f89011": {
      "model_module": "@jupyter-widgets/controls",
      "model_module_version": "1.5.0",
      "model_name": "HBoxModel",
      "state": {
       "children": [
        "IPY_MODEL_85042baca3c74acca1d511ac7b68f9c4",
        "IPY_MODEL_56173909e5b6405d81d51d32937b4ef1",
        "IPY_MODEL_e58d7fa9ed66402bb7a7c392a7fdab89"
       ],
       "layout": "IPY_MODEL_82847462c0404d02ac0523bf356a11d2"
      }
     },
     "38e759479c40410e846ca7a363ffade3": {
      "model_module": "@jupyter-widgets/base",
      "model_module_version": "1.2.0",
      "model_name": "LayoutModel",
      "state": {}
     },
     "3a96d1dd35304427a07b50f2d3481e33": {
      "model_module": "@jupyter-widgets/controls",
      "model_module_version": "1.5.0",
      "model_name": "DescriptionStyleModel",
      "state": {
       "description_width": ""
      }
     },
     "3b237ecca0f3487da370240cc6bbca1d": {
      "model_module": "@jupyter-widgets/base",
      "model_module_version": "1.2.0",
      "model_name": "LayoutModel",
      "state": {}
     },
     "3c978369f32e4235b66a042beb225ddd": {
      "model_module": "@jupyter-widgets/controls",
      "model_module_version": "1.5.0",
      "model_name": "HTMLModel",
      "state": {
       "layout": "IPY_MODEL_453dbdcc163549df8aca05c0734551ca",
       "style": "IPY_MODEL_57048b6a800941509d6d3a788311c7f6",
       "value": " 3/3 [01:20&lt;00:00, 26.70s/it]"
      }
     },
     "3cbe35dc4ab94d1c88db585a668aa029": {
      "model_module": "@jupyter-widgets/base",
      "model_module_version": "1.2.0",
      "model_name": "LayoutModel",
      "state": {}
     },
     "3d04da8f055048548efa892f9ca01712": {
      "model_module": "@jupyter-widgets/base",
      "model_module_version": "1.2.0",
      "model_name": "LayoutModel",
      "state": {}
     },
     "3e384050b7934808a9215127f8100b38": {
      "model_module": "@jupyter-widgets/controls",
      "model_module_version": "1.5.0",
      "model_name": "DescriptionStyleModel",
      "state": {
       "description_width": ""
      }
     },
     "3f383400d4ea4f1681d4a6c0af0dac28": {
      "model_module": "@jupyter-widgets/controls",
      "model_module_version": "1.5.0",
      "model_name": "HTMLModel",
      "state": {
       "layout": "IPY_MODEL_b58913464d1842c991b8dd3c31a92800",
       "style": "IPY_MODEL_7030c883709942d08f6ea23a3f323665",
       "value": " 0/3 [00:00&lt;?, ?it/s]"
      }
     },
     "417d47dda8684e1f95198586fb2b4970": {
      "model_module": "@jupyter-widgets/base",
      "model_module_version": "1.2.0",
      "model_name": "LayoutModel",
      "state": {}
     },
     "41a94968d276415b926020f80fb06c87": {
      "model_module": "@jupyter-widgets/base",
      "model_module_version": "1.2.0",
      "model_name": "LayoutModel",
      "state": {}
     },
     "45013ac39ae34df5a0da0aa60e5813e9": {
      "model_module": "@jupyter-widgets/controls",
      "model_module_version": "1.5.0",
      "model_name": "HTMLModel",
      "state": {
       "layout": "IPY_MODEL_b492e5dc11eb4ef9abbab017f78fa621",
       "style": "IPY_MODEL_19ae3f42d6864777991867d1dfa76ffa",
       "value": "  0%"
      }
     },
     "453dbdcc163549df8aca05c0734551ca": {
      "model_module": "@jupyter-widgets/base",
      "model_module_version": "1.2.0",
      "model_name": "LayoutModel",
      "state": {}
     },
     "4a660f67deda42d288dd03194ffb84b4": {
      "model_module": "@jupyter-widgets/base",
      "model_module_version": "1.2.0",
      "model_name": "LayoutModel",
      "state": {}
     },
     "4ab9d28c7790428f8cc592a80506b5e3": {
      "model_module": "@jupyter-widgets/controls",
      "model_module_version": "1.5.0",
      "model_name": "DescriptionStyleModel",
      "state": {
       "description_width": ""
      }
     },
     "4b2c7f72a3844a328a78f8744f0821f2": {
      "model_module": "@jupyter-widgets/controls",
      "model_module_version": "1.5.0",
      "model_name": "DescriptionStyleModel",
      "state": {
       "description_width": ""
      }
     },
     "4b40fc986b864dd2af1b0693173680bb": {
      "model_module": "@jupyter-widgets/controls",
      "model_module_version": "1.5.0",
      "model_name": "HTMLModel",
      "state": {
       "layout": "IPY_MODEL_3cbe35dc4ab94d1c88db585a668aa029",
       "style": "IPY_MODEL_d5e8a484dbfb4d09a13e361d485c3d3d",
       "value": "  0%"
      }
     },
     "4b8683b3c4544af280b5647f3f898994": {
      "model_module": "@jupyter-widgets/controls",
      "model_module_version": "1.5.0",
      "model_name": "HBoxModel",
      "state": {
       "children": [
        "IPY_MODEL_14e6fe4969aa4b5fa559e9a05f7c1d1b",
        "IPY_MODEL_f2e9c4ad9e1549de9075693f22dd45c2",
        "IPY_MODEL_3c978369f32e4235b66a042beb225ddd"
       ],
       "layout": "IPY_MODEL_0150b9b04f76409d9719dcd6089349c2"
      }
     },
     "4ce5f2250c9942088271dbc94b613ed4": {
      "model_module": "@jupyter-widgets/controls",
      "model_module_version": "1.5.0",
      "model_name": "DescriptionStyleModel",
      "state": {
       "description_width": ""
      }
     },
     "4d0cde453d0140ec9512bdbf4cbc0502": {
      "model_module": "@jupyter-widgets/base",
      "model_module_version": "1.2.0",
      "model_name": "LayoutModel",
      "state": {}
     },
     "4dcf1a24e4164a40937fc9c4281afa25": {
      "model_module": "@jupyter-widgets/base",
      "model_module_version": "1.2.0",
      "model_name": "LayoutModel",
      "state": {}
     },
     "4ee66f1476de4b289874193cef4d9bb4": {
      "model_module": "@jupyter-widgets/controls",
      "model_module_version": "1.5.0",
      "model_name": "DescriptionStyleModel",
      "state": {
       "description_width": ""
      }
     },
     "51c3c6c7edbd48919bffac2793e23317": {
      "model_module": "@jupyter-widgets/controls",
      "model_module_version": "1.5.0",
      "model_name": "HBoxModel",
      "state": {
       "children": [
        "IPY_MODEL_7d1ff69cb9704aabaded185f1bb76b07",
        "IPY_MODEL_328d8732ae614488b25256274fd67525",
        "IPY_MODEL_36d317f002c24b4a95d0d3f748670105"
       ],
       "layout": "IPY_MODEL_7d35e1d7473f47938633c5dbe98bc8a8"
      }
     },
     "5308a893b3554c0ea83034b18e17725d": {
      "model_module": "@jupyter-widgets/controls",
      "model_module_version": "1.5.0",
      "model_name": "HTMLModel",
      "state": {
       "layout": "IPY_MODEL_d39839dfa36f4434870ce8a6941d5acd",
       "style": "IPY_MODEL_6c84e9920bbe429cbed481ea7fe2af2a",
       "value": "100%"
      }
     },
     "54e30b41980d4247aaa0177534f9798c": {
      "model_module": "@jupyter-widgets/controls",
      "model_module_version": "1.5.0",
      "model_name": "DescriptionStyleModel",
      "state": {
       "description_width": ""
      }
     },
     "56173909e5b6405d81d51d32937b4ef1": {
      "model_module": "@jupyter-widgets/controls",
      "model_module_version": "1.5.0",
      "model_name": "FloatProgressModel",
      "state": {
       "bar_style": "danger",
       "layout": "IPY_MODEL_3b237ecca0f3487da370240cc6bbca1d",
       "max": 3,
       "style": "IPY_MODEL_71397f0aafec4a0bb0a6a10a7ab65aa0"
      }
     },
     "5683427a2f364f4d9a25621b67cc4854": {
      "model_module": "@jupyter-widgets/base",
      "model_module_version": "1.2.0",
      "model_name": "LayoutModel",
      "state": {
       "width": "190px"
      }
     },
     "57048b6a800941509d6d3a788311c7f6": {
      "model_module": "@jupyter-widgets/controls",
      "model_module_version": "1.5.0",
      "model_name": "DescriptionStyleModel",
      "state": {
       "description_width": ""
      }
     },
     "5805ba6ed419480ea9d562496eb50e0a": {
      "model_module": "@jupyter-widgets/controls",
      "model_module_version": "1.5.0",
      "model_name": "DescriptionStyleModel",
      "state": {
       "description_width": ""
      }
     },
     "5ae9faab08ca4fa7b4df4906ee385803": {
      "model_module": "@jupyter-widgets/controls",
      "model_module_version": "1.5.0",
      "model_name": "ProgressStyleModel",
      "state": {
       "description_width": ""
      }
     },
     "5bbfcb52a54c42b088f031fab899bb14": {
      "model_module": "@jupyter-widgets/base",
      "model_module_version": "1.2.0",
      "model_name": "LayoutModel",
      "state": {
       "width": "70px"
      }
     },
     "5c5ab48d2815490a8149f97cd51e98d7": {
      "model_module": "@jupyter-widgets/controls",
      "model_module_version": "1.5.0",
      "model_name": "DescriptionStyleModel",
      "state": {
       "description_width": ""
      }
     },
     "5e7c438b73134deea9f10b5b1140b406": {
      "model_module": "@jupyter-widgets/controls",
      "model_module_version": "1.5.0",
      "model_name": "ProgressStyleModel",
      "state": {
       "description_width": ""
      }
     },
     "5ffbe6994202475cb8b1c9bc3036c5c2": {
      "model_module": "@jupyter-widgets/controls",
      "model_module_version": "1.5.0",
      "model_name": "ProgressStyleModel",
      "state": {
       "description_width": ""
      }
     },
     "62ec44991bf64cd1bc8195cc478635c0": {
      "model_module": "@jupyter-widgets/controls",
      "model_module_version": "1.5.0",
      "model_name": "HTMLModel",
      "state": {
       "layout": "IPY_MODEL_41a94968d276415b926020f80fb06c87",
       "style": "IPY_MODEL_df57fb9b64ec48378faa207ebeb04831",
       "value": "100%"
      }
     },
     "63c7afd99f7b4756987ea94d32750a8c": {
      "model_module": "@jupyter-widgets/controls",
      "model_module_version": "1.5.0",
      "model_name": "DescriptionStyleModel",
      "state": {
       "description_width": ""
      }
     },
     "6728f46decb1400ab4214c59bd4276d7": {
      "model_module": "@jupyter-widgets/controls",
      "model_module_version": "1.5.0",
      "model_name": "DescriptionStyleModel",
      "state": {
       "description_width": ""
      }
     },
     "699aec6105ac40acb6ddbeca171cb903": {
      "model_module": "@jupyter-widgets/controls",
      "model_module_version": "1.5.0",
      "model_name": "HTMLModel",
      "state": {
       "layout": "IPY_MODEL_5683427a2f364f4d9a25621b67cc4854",
       "style": "IPY_MODEL_05ca889df9844bf193dc639b1cf9c8b7",
       "value": "<h5>Job ID</h5>"
      }
     },
     "6be47e99142242c49cfbec34191161c9": {
      "model_module": "@jupyter-widgets/controls",
      "model_module_version": "1.5.0",
      "model_name": "HTMLModel",
      "state": {
       "layout": "IPY_MODEL_b65fc91555c940e384dc2cccf246c798",
       "style": "IPY_MODEL_06dd5a78f03141aabdde0e2d87ebc580",
       "value": "100%"
      }
     },
     "6c84e9920bbe429cbed481ea7fe2af2a": {
      "model_module": "@jupyter-widgets/controls",
      "model_module_version": "1.5.0",
      "model_name": "DescriptionStyleModel",
      "state": {
       "description_width": ""
      }
     },
     "6ccd36c3dadb4ea18e8da505a89c0971": {
      "model_module": "@jupyter-widgets/base",
      "model_module_version": "1.2.0",
      "model_name": "LayoutModel",
      "state": {}
     },
     "6ce610b7359c4c05a6ffaa06fcccb5e5": {
      "model_module": "@jupyter-widgets/controls",
      "model_module_version": "1.5.0",
      "model_name": "DescriptionStyleModel",
      "state": {
       "description_width": ""
      }
     },
     "6d82febbc8104c04b21392ff6c7ca4c5": {
      "model_module": "@jupyter-widgets/controls",
      "model_module_version": "1.5.0",
      "model_name": "ProgressStyleModel",
      "state": {
       "description_width": ""
      }
     },
     "6fbf4bfbcc424c34a8c3b4574845d8e8": {
      "model_module": "@jupyter-widgets/controls",
      "model_module_version": "1.5.0",
      "model_name": "HBoxModel",
      "state": {
       "children": [
        "IPY_MODEL_dfb305ff51ad46fa8da0d7730302ce3a",
        "IPY_MODEL_dc0a5257255a4b0281a8dab54bb36997",
        "IPY_MODEL_765213a82c5d48e182ccc28e4f19347b"
       ],
       "layout": "IPY_MODEL_d77709148d9e47eca13eff6107b1d051"
      }
     },
     "7030c883709942d08f6ea23a3f323665": {
      "model_module": "@jupyter-widgets/controls",
      "model_module_version": "1.5.0",
      "model_name": "DescriptionStyleModel",
      "state": {
       "description_width": ""
      }
     },
     "71397f0aafec4a0bb0a6a10a7ab65aa0": {
      "model_module": "@jupyter-widgets/controls",
      "model_module_version": "1.5.0",
      "model_name": "ProgressStyleModel",
      "state": {
       "description_width": ""
      }
     },
     "720d8dfd14ad42b182f2d4bb76746cd6": {
      "model_module": "@jupyter-widgets/controls",
      "model_module_version": "1.5.0",
      "model_name": "DescriptionStyleModel",
      "state": {
       "description_width": ""
      }
     },
     "727663c4351c46559a649641c421ba0d": {
      "model_module": "@jupyter-widgets/controls",
      "model_module_version": "1.5.0",
      "model_name": "DescriptionStyleModel",
      "state": {
       "description_width": ""
      }
     },
     "75eaa873a8e5474982dc868a1662415e": {
      "model_module": "@jupyter-widgets/controls",
      "model_module_version": "1.5.0",
      "model_name": "DescriptionStyleModel",
      "state": {
       "description_width": ""
      }
     },
     "765213a82c5d48e182ccc28e4f19347b": {
      "model_module": "@jupyter-widgets/controls",
      "model_module_version": "1.5.0",
      "model_name": "HTMLModel",
      "state": {
       "layout": "IPY_MODEL_00508bc9993e4b9582f30adaec9a5315",
       "style": "IPY_MODEL_54e30b41980d4247aaa0177534f9798c",
       "value": " 0/3 [00:00&lt;?, ?it/s]"
      }
     },
     "76e3e2d661844438bdaf2db9919a2e30": {
      "model_module": "@jupyter-widgets/controls",
      "model_module_version": "1.5.0",
      "model_name": "FloatProgressModel",
      "state": {
       "bar_style": "success",
       "layout": "IPY_MODEL_f47ca4a2295344d88fdf09456e450b18",
       "max": 3,
       "style": "IPY_MODEL_31985e957b0f4dfcabbd1b7c5270cc5e",
       "value": 3
      }
     },
     "7ab9012a7203492f98d875f707a7c3f5": {
      "model_module": "@jupyter-widgets/base",
      "model_module_version": "1.2.0",
      "model_name": "LayoutModel",
      "state": {}
     },
     "7b37de420370435eb66bd9d01d961c0c": {
      "model_module": "@jupyter-widgets/controls",
      "model_module_version": "1.5.0",
      "model_name": "HTMLModel",
      "state": {
       "layout": "IPY_MODEL_9e0a81baf2824aa588e1d634fcd3dc44",
       "style": "IPY_MODEL_3a96d1dd35304427a07b50f2d3481e33",
       "value": " 3/3 [01:14&lt;00:00, 24.82s/it]"
      }
     },
     "7d1ff69cb9704aabaded185f1bb76b07": {
      "model_module": "@jupyter-widgets/controls",
      "model_module_version": "1.5.0",
      "model_name": "HTMLModel",
      "state": {
       "layout": "IPY_MODEL_0f3648aa895d4f85a629cb64add82897",
       "style": "IPY_MODEL_1219825cf644454a85d85ab11cccaa7e",
       "value": "  0%"
      }
     },
     "7d35e1d7473f47938633c5dbe98bc8a8": {
      "model_module": "@jupyter-widgets/base",
      "model_module_version": "1.2.0",
      "model_name": "LayoutModel",
      "state": {}
     },
     "7e93edae743843a5962b7e4233f0de15": {
      "model_module": "@jupyter-widgets/base",
      "model_module_version": "1.2.0",
      "model_name": "LayoutModel",
      "state": {
       "width": "145px"
      }
     },
     "7f0312ebd426472bb45bf6b245b1b5d2": {
      "model_module": "@jupyter-widgets/controls",
      "model_module_version": "1.5.0",
      "model_name": "HTMLModel",
      "state": {
       "layout": "IPY_MODEL_f0d1119f379d4e4eacb1fb9df78d139b",
       "style": "IPY_MODEL_a1b36b5b61d2465abeeb191f40c7f578",
       "value": "  0%"
      }
     },
     "8008b08581b44150a5743b7ee75f5355": {
      "model_module": "@jupyter-widgets/controls",
      "model_module_version": "1.5.0",
      "model_name": "HBoxModel",
      "state": {
       "children": [
        "IPY_MODEL_45013ac39ae34df5a0da0aa60e5813e9",
        "IPY_MODEL_c8101e81ad6d41799076b7fc660839ac",
        "IPY_MODEL_a2aeb786b6a249cda82a308e96f68a1b"
       ],
       "layout": "IPY_MODEL_888ce05018c74dc09b3fb1f776a771a8"
      }
     },
     "800e7a63a4f54f37ab736e6aa8586115": {
      "model_module": "@jupyter-widgets/controls",
      "model_module_version": "1.5.0",
      "model_name": "DescriptionStyleModel",
      "state": {
       "description_width": ""
      }
     },
     "80fb35e938e04c089ee76d8b6c458a60": {
      "model_module": "@jupyter-widgets/controls",
      "model_module_version": "1.5.0",
      "model_name": "ProgressStyleModel",
      "state": {
       "description_width": ""
      }
     },
     "82847462c0404d02ac0523bf356a11d2": {
      "model_module": "@jupyter-widgets/base",
      "model_module_version": "1.2.0",
      "model_name": "LayoutModel",
      "state": {}
     },
     "829317bc510741318e59b15d5c8ce89d": {
      "model_module": "@jupyter-widgets/base",
      "model_module_version": "1.2.0",
      "model_name": "LayoutModel",
      "state": {}
     },
     "82ab05323e0f49bd923f885c61349c93": {
      "model_module": "@jupyter-widgets/base",
      "model_module_version": "1.2.0",
      "model_name": "LayoutModel",
      "state": {}
     },
     "835035a8d2a2418b9578a011f81f5a53": {
      "model_module": "@jupyter-widgets/controls",
      "model_module_version": "1.5.0",
      "model_name": "HTMLModel",
      "state": {
       "layout": "IPY_MODEL_b5940d760059485ba84e4d1e5e7a1db3",
       "style": "IPY_MODEL_8c49d996e5a74b7c9681d41003f7b38c",
       "value": " 3/3 [01:11&lt;00:00, 23.65s/it]"
      }
     },
     "83594579206a4a3aa267576ab9fbeaac": {
      "model_module": "@jupyter-widgets/controls",
      "model_module_version": "1.5.0",
      "model_name": "HTMLModel",
      "state": {
       "layout": "IPY_MODEL_8478336c21be475f8a7b9352908faa6a",
       "style": "IPY_MODEL_4ce5f2250c9942088271dbc94b613ed4",
       "value": "<h5>Message</h5>"
      }
     },
     "838db15a2a3546b3bdb672bd75113548": {
      "model_module": "@jupyter-widgets/base",
      "model_module_version": "1.2.0",
      "model_name": "LayoutModel",
      "state": {}
     },
     "8478336c21be475f8a7b9352908faa6a": {
      "model_module": "@jupyter-widgets/base",
      "model_module_version": "1.2.0",
      "model_name": "LayoutModel",
      "state": {}
     },
     "85042baca3c74acca1d511ac7b68f9c4": {
      "model_module": "@jupyter-widgets/controls",
      "model_module_version": "1.5.0",
      "model_name": "HTMLModel",
      "state": {
       "layout": "IPY_MODEL_96d95afbf5064156b8fd24ceef47b10c",
       "style": "IPY_MODEL_4b2c7f72a3844a328a78f8744f0821f2",
       "value": "  0%"
      }
     },
     "86d1710c462d4bcd9514bf057ca49956": {
      "model_module": "@jupyter-widgets/controls",
      "model_module_version": "1.5.0",
      "model_name": "HBoxModel",
      "state": {
       "children": [
        "IPY_MODEL_bfa3fd8b43544203804699c8d269c4a4",
        "IPY_MODEL_dc25684f19124cbe9f2e3ec3ebd4e444",
        "IPY_MODEL_7b37de420370435eb66bd9d01d961c0c"
       ],
       "layout": "IPY_MODEL_b33f5994c33b4f0ca033f3a8cd38100c"
      }
     },
     "888ce05018c74dc09b3fb1f776a771a8": {
      "model_module": "@jupyter-widgets/base",
      "model_module_version": "1.2.0",
      "model_name": "LayoutModel",
      "state": {}
     },
     "8a1141576b0948909ecbb5e49a0fee0b": {
      "model_module": "@jupyter-widgets/controls",
      "model_module_version": "1.5.0",
      "model_name": "ProgressStyleModel",
      "state": {
       "description_width": ""
      }
     },
     "8c49d996e5a74b7c9681d41003f7b38c": {
      "model_module": "@jupyter-widgets/controls",
      "model_module_version": "1.5.0",
      "model_name": "DescriptionStyleModel",
      "state": {
       "description_width": ""
      }
     },
     "8e4be4bc372a4b699971a1972bedb915": {
      "model_module": "@jupyter-widgets/base",
      "model_module_version": "1.2.0",
      "model_name": "LayoutModel",
      "state": {}
     },
     "9082e3a28eb941188be087a3e00574d8": {
      "model_module": "@jupyter-widgets/base",
      "model_module_version": "1.2.0",
      "model_name": "LayoutModel",
      "state": {}
     },
     "9218c27ddd8d4763b6811614cda56af9": {
      "model_module": "@jupyter-widgets/controls",
      "model_module_version": "1.5.0",
      "model_name": "HTMLModel",
      "state": {
       "layout": "IPY_MODEL_943fca41330749a29a54031f8e9ff1e9",
       "style": "IPY_MODEL_b12cf6e2412e4cee9ea35baa38a353e2",
       "value": "  0%"
      }
     },
     "935f6be2c5fe4824a62f7f8881fe3b84": {
      "model_module": "@jupyter-widgets/controls",
      "model_module_version": "1.5.0",
      "model_name": "DescriptionStyleModel",
      "state": {
       "description_width": ""
      }
     },
     "9388a67fd3e044a19e3d927bd0764ce9": {
      "model_module": "@jupyter-widgets/controls",
      "model_module_version": "1.5.0",
      "model_name": "ProgressStyleModel",
      "state": {
       "description_width": ""
      }
     },
     "943fca41330749a29a54031f8e9ff1e9": {
      "model_module": "@jupyter-widgets/base",
      "model_module_version": "1.2.0",
      "model_name": "LayoutModel",
      "state": {}
     },
     "95527b3d4b784a47b2eaab62fe83ad1a": {
      "model_module": "@jupyter-widgets/base",
      "model_module_version": "1.2.0",
      "model_name": "LayoutModel",
      "state": {}
     },
     "96d95afbf5064156b8fd24ceef47b10c": {
      "model_module": "@jupyter-widgets/base",
      "model_module_version": "1.2.0",
      "model_name": "LayoutModel",
      "state": {}
     },
     "9b9d8ce41ccf4afe9d13d912c795779a": {
      "model_module": "@jupyter-widgets/controls",
      "model_module_version": "1.5.0",
      "model_name": "HTMLModel",
      "state": {
       "layout": "IPY_MODEL_1f459dc12c924e08bf5c8540422c8e3b",
       "style": "IPY_MODEL_23c089d4f7164f178631aa3ea640f4d5",
       "value": "<h5>Status</h5>"
      }
     },
     "9d86bfc905db425fad7facfb560596d6": {
      "model_module": "@jupyter-widgets/controls",
      "model_module_version": "1.5.0",
      "model_name": "FloatProgressModel",
      "state": {
       "bar_style": "success",
       "layout": "IPY_MODEL_3d04da8f055048548efa892f9ca01712",
       "max": 3,
       "style": "IPY_MODEL_daffed5880aa49cb8496d79df2e98d5f",
       "value": 3
      }
     },
     "9e0a81baf2824aa588e1d634fcd3dc44": {
      "model_module": "@jupyter-widgets/base",
      "model_module_version": "1.2.0",
      "model_name": "LayoutModel",
      "state": {}
     },
     "9e6d5faf8c974a9f80423f44cb02198a": {
      "model_module": "@jupyter-widgets/controls",
      "model_module_version": "1.5.0",
      "model_name": "HTMLModel",
      "state": {
       "layout": "IPY_MODEL_5bbfcb52a54c42b088f031fab899bb14",
       "style": "IPY_MODEL_e127d513114441adac1685dfb94ed112",
       "value": "<h5>Queue</h5>"
      }
     },
     "9fd3e454240d48bea801804a440b36a5": {
      "model_module": "@jupyter-widgets/controls",
      "model_module_version": "1.5.0",
      "model_name": "HTMLModel",
      "state": {
       "layout": "IPY_MODEL_cbb441b8001a4c909d81b4f1cf357fe4",
       "style": "IPY_MODEL_63c7afd99f7b4756987ea94d32750a8c",
       "value": " 0/3 [00:16&lt;?, ?it/s]"
      }
     },
     "a1b36b5b61d2465abeeb191f40c7f578": {
      "model_module": "@jupyter-widgets/controls",
      "model_module_version": "1.5.0",
      "model_name": "DescriptionStyleModel",
      "state": {
       "description_width": ""
      }
     },
     "a2aeb786b6a249cda82a308e96f68a1b": {
      "model_module": "@jupyter-widgets/controls",
      "model_module_version": "1.5.0",
      "model_name": "HTMLModel",
      "state": {
       "layout": "IPY_MODEL_a4ba06015e4348f8ae8953f72db16a0e",
       "style": "IPY_MODEL_b82fdb87b9164567bf722c18746c86f5",
       "value": " 0/3 [00:00&lt;?, ?it/s]"
      }
     },
     "a371e563462d4bea99106f88dee2cdfd": {
      "model_module": "@jupyter-widgets/controls",
      "model_module_version": "1.5.0",
      "model_name": "HBoxModel",
      "state": {
       "children": [
        "IPY_MODEL_ed8565f690ac4955bb5f8d6a41029916",
        "IPY_MODEL_12f3ff0f7cb64f5889f4013add15643e",
        "IPY_MODEL_35e0f558cc4044ecbb82452f64fe2885"
       ],
       "layout": "IPY_MODEL_2173d4332f084e7fbfbfc52a2e580a19"
      }
     },
     "a4ba06015e4348f8ae8953f72db16a0e": {
      "model_module": "@jupyter-widgets/base",
      "model_module_version": "1.2.0",
      "model_name": "LayoutModel",
      "state": {}
     },
     "a969ac90273c421a8fbbbb34f3091f0f": {
      "model_module": "@jupyter-widgets/controls",
      "model_module_version": "1.5.0",
      "model_name": "HTMLModel",
      "state": {
       "layout": "IPY_MODEL_1258efaa54514d9183be5c275426a663",
       "style": "IPY_MODEL_6ce610b7359c4c05a6ffaa06fcccb5e5",
       "value": " 0/3 [00:00&lt;?, ?it/s]"
      }
     },
     "a9a47ee4f3914ecd8229ca4b4a48a129": {
      "model_module": "@jupyter-widgets/base",
      "model_module_version": "1.2.0",
      "model_name": "LayoutModel",
      "state": {}
     },
     "ab1b439e23be46cfb0cd75a22e46bdeb": {
      "model_module": "@jupyter-widgets/base",
      "model_module_version": "1.2.0",
      "model_name": "LayoutModel",
      "state": {}
     },
     "ab69229cf8634e659343f35f74cf0c88": {
      "model_module": "@jupyter-widgets/base",
      "model_module_version": "1.2.0",
      "model_name": "LayoutModel",
      "state": {}
     },
     "abf6eb5f62f74e8e9867aee70dbe9b77": {
      "model_module": "@jupyter-widgets/base",
      "model_module_version": "1.2.0",
      "model_name": "LayoutModel",
      "state": {}
     },
     "acc8ffed71a14555b93a6c7c60cab48e": {
      "model_module": "@jupyter-widgets/base",
      "model_module_version": "1.2.0",
      "model_name": "LayoutModel",
      "state": {}
     },
     "ad3dcba02e204ae6a49cd57bbb27b810": {
      "model_module": "@jupyter-widgets/base",
      "model_module_version": "1.2.0",
      "model_name": "LayoutModel",
      "state": {}
     },
     "ad963d64ea344165b5d5b6c0acbfd860": {
      "model_module": "@jupyter-widgets/controls",
      "model_module_version": "1.5.0",
      "model_name": "ProgressStyleModel",
      "state": {
       "description_width": ""
      }
     },
     "b12cf6e2412e4cee9ea35baa38a353e2": {
      "model_module": "@jupyter-widgets/controls",
      "model_module_version": "1.5.0",
      "model_name": "DescriptionStyleModel",
      "state": {
       "description_width": ""
      }
     },
     "b1b5a9b487f540f59a71eb909328d89c": {
      "model_module": "@jupyter-widgets/base",
      "model_module_version": "1.2.0",
      "model_name": "LayoutModel",
      "state": {}
     },
     "b2a4a182b65c418785c6d225230bb7ae": {
      "model_module": "@jupyter-widgets/base",
      "model_module_version": "1.2.0",
      "model_name": "LayoutModel",
      "state": {}
     },
     "b33f5994c33b4f0ca033f3a8cd38100c": {
      "model_module": "@jupyter-widgets/base",
      "model_module_version": "1.2.0",
      "model_name": "LayoutModel",
      "state": {}
     },
     "b492e5dc11eb4ef9abbab017f78fa621": {
      "model_module": "@jupyter-widgets/base",
      "model_module_version": "1.2.0",
      "model_name": "LayoutModel",
      "state": {}
     },
     "b58913464d1842c991b8dd3c31a92800": {
      "model_module": "@jupyter-widgets/base",
      "model_module_version": "1.2.0",
      "model_name": "LayoutModel",
      "state": {}
     },
     "b5940d760059485ba84e4d1e5e7a1db3": {
      "model_module": "@jupyter-widgets/base",
      "model_module_version": "1.2.0",
      "model_name": "LayoutModel",
      "state": {}
     },
     "b65fc91555c940e384dc2cccf246c798": {
      "model_module": "@jupyter-widgets/base",
      "model_module_version": "1.2.0",
      "model_name": "LayoutModel",
      "state": {}
     },
     "b662eeb780a14167aa2e59ad38c68511": {
      "model_module": "@jupyter-widgets/base",
      "model_module_version": "1.2.0",
      "model_name": "LayoutModel",
      "state": {}
     },
     "b6ceac9d7b2649e2b1ce787386b49813": {
      "model_module": "@jupyter-widgets/controls",
      "model_module_version": "1.5.0",
      "model_name": "FloatProgressModel",
      "state": {
       "bar_style": "danger",
       "layout": "IPY_MODEL_8e4be4bc372a4b699971a1972bedb915",
       "max": 3,
       "style": "IPY_MODEL_5ffbe6994202475cb8b1c9bc3036c5c2"
      }
     },
     "b82fdb87b9164567bf722c18746c86f5": {
      "model_module": "@jupyter-widgets/controls",
      "model_module_version": "1.5.0",
      "model_name": "DescriptionStyleModel",
      "state": {
       "description_width": ""
      }
     },
     "b98ea59756154bcd840c75f2025c7023": {
      "model_module": "@jupyter-widgets/controls",
      "model_module_version": "1.5.0",
      "model_name": "DescriptionStyleModel",
      "state": {
       "description_width": ""
      }
     },
     "ba9372390e994e23afca01ab535952f4": {
      "model_module": "@jupyter-widgets/controls",
      "model_module_version": "1.5.0",
      "model_name": "FloatProgressModel",
      "state": {
       "bar_style": "danger",
       "layout": "IPY_MODEL_4dcf1a24e4164a40937fc9c4281afa25",
       "max": 3,
       "style": "IPY_MODEL_8a1141576b0948909ecbb5e49a0fee0b"
      }
     },
     "bc88e7ddd5494c5980e9ce91678fde85": {
      "model_module": "@jupyter-widgets/base",
      "model_module_version": "1.2.0",
      "model_name": "LayoutModel",
      "state": {}
     },
     "bfa3fd8b43544203804699c8d269c4a4": {
      "model_module": "@jupyter-widgets/controls",
      "model_module_version": "1.5.0",
      "model_name": "HTMLModel",
      "state": {
       "layout": "IPY_MODEL_7ab9012a7203492f98d875f707a7c3f5",
       "style": "IPY_MODEL_75eaa873a8e5474982dc868a1662415e",
       "value": "100%"
      }
     },
     "c1c0ca0a3558433a9239b3e31add180f": {
      "model_module": "@jupyter-widgets/controls",
      "model_module_version": "1.5.0",
      "model_name": "HTMLModel",
      "state": {
       "layout": "IPY_MODEL_4a660f67deda42d288dd03194ffb84b4",
       "style": "IPY_MODEL_caf91ee1668f4ef1b577554145b1106d",
       "value": " 3/3 [01:20&lt;00:00, 26.73s/it]"
      }
     },
     "c29a6314e6fc4cea8a67342dde2aeac1": {
      "model_module": "@jupyter-widgets/base",
      "model_module_version": "1.2.0",
      "model_name": "LayoutModel",
      "state": {}
     },
     "c2b7f419db5546f3938917d4aeed6003": {
      "model_module": "@jupyter-widgets/base",
      "model_module_version": "1.2.0",
      "model_name": "LayoutModel",
      "state": {}
     },
     "c3236465ee554006823e15173273f532": {
      "model_module": "@jupyter-widgets/controls",
      "model_module_version": "1.5.0",
      "model_name": "ProgressStyleModel",
      "state": {
       "description_width": ""
      }
     },
     "c5c06c7368c14501a4a1f4446ec0f38c": {
      "model_module": "@jupyter-widgets/base",
      "model_module_version": "1.2.0",
      "model_name": "LayoutModel",
      "state": {}
     },
     "c617adb0e1de46ea99001c034373bbce": {
      "model_module": "@jupyter-widgets/base",
      "model_module_version": "1.2.0",
      "model_name": "LayoutModel",
      "state": {}
     },
     "c8101e81ad6d41799076b7fc660839ac": {
      "model_module": "@jupyter-widgets/controls",
      "model_module_version": "1.5.0",
      "model_name": "FloatProgressModel",
      "state": {
       "bar_style": "danger",
       "layout": "IPY_MODEL_e10c46862dcc4be6bfb5742fd595adc9",
       "max": 3,
       "style": "IPY_MODEL_e3b88ffd34864b44bdcf5d40205fd78f"
      }
     },
     "caf91ee1668f4ef1b577554145b1106d": {
      "model_module": "@jupyter-widgets/controls",
      "model_module_version": "1.5.0",
      "model_name": "DescriptionStyleModel",
      "state": {
       "description_width": ""
      }
     },
     "cbb441b8001a4c909d81b4f1cf357fe4": {
      "model_module": "@jupyter-widgets/base",
      "model_module_version": "1.2.0",
      "model_name": "LayoutModel",
      "state": {}
     },
     "ce1d9ff562354acab751971d1bb52002": {
      "model_module": "@jupyter-widgets/controls",
      "model_module_version": "1.5.0",
      "model_name": "DescriptionStyleModel",
      "state": {
       "description_width": ""
      }
     },
     "ceff96422f554c8d9c514e81ba28e077": {
      "model_module": "@jupyter-widgets/base",
      "model_module_version": "1.2.0",
      "model_name": "LayoutModel",
      "state": {}
     },
     "cfd9440b40c6488c9aba7a16963d569c": {
      "model_module": "@jupyter-widgets/controls",
      "model_module_version": "1.5.0",
      "model_name": "ProgressStyleModel",
      "state": {
       "description_width": ""
      }
     },
     "cff6328668d64da988dcbd4714a4dcee": {
      "model_module": "@jupyter-widgets/controls",
      "model_module_version": "1.5.0",
      "model_name": "HTMLModel",
      "state": {
       "layout": "IPY_MODEL_dcb805c38714458fa471a0bdf89bf777",
       "style": "IPY_MODEL_800e7a63a4f54f37ab736e6aa8586115",
       "value": " 0/3 [00:00&lt;?, ?it/s]"
      }
     },
     "d01eb933d2ca4cf09072ac67c54a41d9": {
      "model_module": "@jupyter-widgets/controls",
      "model_module_version": "1.5.0",
      "model_name": "HTMLModel",
      "state": {
       "layout": "IPY_MODEL_7e93edae743843a5962b7e4233f0de15",
       "style": "IPY_MODEL_727663c4351c46559a649641c421ba0d",
       "value": "<h5>Backend</h5>"
      }
     },
     "d11e07bdd7e4482e8ccce3f18d3eba87": {
      "model_module": "@jupyter-widgets/controls",
      "model_module_version": "1.5.0",
      "model_name": "DescriptionStyleModel",
      "state": {
       "description_width": ""
      }
     },
     "d1f45dc7a7e647e0bc915bcc24680865": {
      "model_module": "@jupyter-widgets/base",
      "model_module_version": "1.2.0",
      "model_name": "LayoutModel",
      "state": {}
     },
     "d335c0b5d42741c28394496b889e97d3": {
      "model_module": "@jupyter-widgets/controls",
      "model_module_version": "1.5.0",
      "model_name": "DescriptionStyleModel",
      "state": {
       "description_width": ""
      }
     },
     "d39839dfa36f4434870ce8a6941d5acd": {
      "model_module": "@jupyter-widgets/base",
      "model_module_version": "1.2.0",
      "model_name": "LayoutModel",
      "state": {}
     },
     "d436d51778374df2914e586215652acf": {
      "model_module": "@jupyter-widgets/controls",
      "model_module_version": "1.5.0",
      "model_name": "HBoxModel",
      "state": {
       "children": [
        "IPY_MODEL_699aec6105ac40acb6ddbeca171cb903",
        "IPY_MODEL_d01eb933d2ca4cf09072ac67c54a41d9",
        "IPY_MODEL_9b9d8ce41ccf4afe9d13d912c795779a",
        "IPY_MODEL_9e6d5faf8c974a9f80423f44cb02198a",
        "IPY_MODEL_83594579206a4a3aa267576ab9fbeaac"
       ],
       "layout": "IPY_MODEL_d90245eea11b48c8aa6275ee218bceea"
      }
     },
     "d4ec255b9168499aaf83e059f7113810": {
      "model_module": "@jupyter-widgets/controls",
      "model_module_version": "1.5.0",
      "model_name": "HBoxModel",
      "state": {
       "children": [
        "IPY_MODEL_e4fa0d63920445eeb61c7fadae113a73",
        "IPY_MODEL_0b04698561364d2c807cc504a88966ac",
        "IPY_MODEL_2c171facefe7457bad595463e7d29c1d"
       ],
       "layout": "IPY_MODEL_6ccd36c3dadb4ea18e8da505a89c0971"
      }
     },
     "d5e8a484dbfb4d09a13e361d485c3d3d": {
      "model_module": "@jupyter-widgets/controls",
      "model_module_version": "1.5.0",
      "model_name": "DescriptionStyleModel",
      "state": {
       "description_width": ""
      }
     },
     "d5e9ab2c1c754cf0a36b545a59cc957b": {
      "model_module": "@jupyter-widgets/controls",
      "model_module_version": "1.5.0",
      "model_name": "HBoxModel",
      "state": {
       "children": [
        "IPY_MODEL_f8701a2f55404c4489b2b06ab476bf07",
        "IPY_MODEL_f6001f4f4e384843968d11cfd8d8ccfa",
        "IPY_MODEL_31da77d35fec4ba89187151a8883abaf"
       ],
       "layout": "IPY_MODEL_c29a6314e6fc4cea8a67342dde2aeac1"
      }
     },
     "d77709148d9e47eca13eff6107b1d051": {
      "model_module": "@jupyter-widgets/base",
      "model_module_version": "1.2.0",
      "model_name": "LayoutModel",
      "state": {}
     },
     "d81b57741563469382b249493797e3b0": {
      "model_module": "@jupyter-widgets/base",
      "model_module_version": "1.2.0",
      "model_name": "LayoutModel",
      "state": {}
     },
     "d90245eea11b48c8aa6275ee218bceea": {
      "model_module": "@jupyter-widgets/base",
      "model_module_version": "1.2.0",
      "model_name": "LayoutModel",
      "state": {
       "margin": "0px 0px 0px 37px",
       "width": "600px"
      }
     },
     "da31236421c34919afc93abc79979029": {
      "model_module": "@jupyter-widgets/base",
      "model_module_version": "1.2.0",
      "model_name": "LayoutModel",
      "state": {}
     },
     "daffed5880aa49cb8496d79df2e98d5f": {
      "model_module": "@jupyter-widgets/controls",
      "model_module_version": "1.5.0",
      "model_name": "ProgressStyleModel",
      "state": {
       "description_width": ""
      }
     },
     "db8e878273554e10985902b196f886c7": {
      "model_module": "@jupyter-widgets/base",
      "model_module_version": "1.2.0",
      "model_name": "LayoutModel",
      "state": {}
     },
     "dc0a5257255a4b0281a8dab54bb36997": {
      "model_module": "@jupyter-widgets/controls",
      "model_module_version": "1.5.0",
      "model_name": "FloatProgressModel",
      "state": {
       "bar_style": "danger",
       "layout": "IPY_MODEL_259c2269a40f4a9692fb2ed037c83c35",
       "max": 3,
       "style": "IPY_MODEL_9388a67fd3e044a19e3d927bd0764ce9"
      }
     },
     "dc25684f19124cbe9f2e3ec3ebd4e444": {
      "model_module": "@jupyter-widgets/controls",
      "model_module_version": "1.5.0",
      "model_name": "FloatProgressModel",
      "state": {
       "bar_style": "success",
       "layout": "IPY_MODEL_1d1e7fc86583432da3219619b62b7d7a",
       "max": 3,
       "style": "IPY_MODEL_5e7c438b73134deea9f10b5b1140b406",
       "value": 3
      }
     },
     "dcb805c38714458fa471a0bdf89bf777": {
      "model_module": "@jupyter-widgets/base",
      "model_module_version": "1.2.0",
      "model_name": "LayoutModel",
      "state": {}
     },
     "de3fa78a06c141298fb26766a6f2812d": {
      "model_module": "@jupyter-widgets/controls",
      "model_module_version": "1.5.0",
      "model_name": "ButtonModel",
      "state": {
       "button_style": "primary",
       "description": "Clear",
       "layout": "IPY_MODEL_3307167d1f7f4687b540a85f5e1932df",
       "style": "IPY_MODEL_1585f59e05d742af874a7d7e47233b1f"
      }
     },
     "df5100c6984443578e324d9b1a549866": {
      "model_module": "@jupyter-widgets/controls",
      "model_module_version": "1.5.0",
      "model_name": "HTMLModel",
      "state": {
       "layout": "IPY_MODEL_9082e3a28eb941188be087a3e00574d8",
       "style": "IPY_MODEL_237a203dbf97427683d6ea9bec1a3b25",
       "value": " 3/3 [01:10&lt;00:00, 23.26s/it]"
      }
     },
     "df57fb9b64ec48378faa207ebeb04831": {
      "model_module": "@jupyter-widgets/controls",
      "model_module_version": "1.5.0",
      "model_name": "DescriptionStyleModel",
      "state": {
       "description_width": ""
      }
     },
     "dfb305ff51ad46fa8da0d7730302ce3a": {
      "model_module": "@jupyter-widgets/controls",
      "model_module_version": "1.5.0",
      "model_name": "HTMLModel",
      "state": {
       "layout": "IPY_MODEL_417d47dda8684e1f95198586fb2b4970",
       "style": "IPY_MODEL_3e384050b7934808a9215127f8100b38",
       "value": "  0%"
      }
     },
     "e03c398ce8624de382cbdec27e7251fa": {
      "model_module": "@jupyter-widgets/controls",
      "model_module_version": "1.5.0",
      "model_name": "FloatProgressModel",
      "state": {
       "bar_style": "danger",
       "layout": "IPY_MODEL_a9a47ee4f3914ecd8229ca4b4a48a129",
       "max": 3,
       "style": "IPY_MODEL_6d82febbc8104c04b21392ff6c7ca4c5"
      }
     },
     "e10c46862dcc4be6bfb5742fd595adc9": {
      "model_module": "@jupyter-widgets/base",
      "model_module_version": "1.2.0",
      "model_name": "LayoutModel",
      "state": {}
     },
     "e127d513114441adac1685dfb94ed112": {
      "model_module": "@jupyter-widgets/controls",
      "model_module_version": "1.5.0",
      "model_name": "DescriptionStyleModel",
      "state": {
       "description_width": ""
      }
     },
     "e1a7aa84178c403e9990f46cf840cd86": {
      "model_module": "@jupyter-widgets/controls",
      "model_module_version": "1.5.0",
      "model_name": "HTMLModel",
      "state": {
       "layout": "IPY_MODEL_d1f45dc7a7e647e0bc915bcc24680865",
       "style": "IPY_MODEL_ce1d9ff562354acab751971d1bb52002",
       "value": "  0%"
      }
     },
     "e26b34a88ea54f9cb9e2d6e15101e8be": {
      "model_module": "@jupyter-widgets/controls",
      "model_module_version": "1.5.0",
      "model_name": "DescriptionStyleModel",
      "state": {
       "description_width": ""
      }
     },
     "e3b88ffd34864b44bdcf5d40205fd78f": {
      "model_module": "@jupyter-widgets/controls",
      "model_module_version": "1.5.0",
      "model_name": "ProgressStyleModel",
      "state": {
       "description_width": ""
      }
     },
     "e4d8fcc816924827b2c6f1d56242f551": {
      "model_module": "@jupyter-widgets/controls",
      "model_module_version": "1.5.0",
      "model_name": "HTMLModel",
      "state": {
       "layout": "IPY_MODEL_ceff96422f554c8d9c514e81ba28e077",
       "style": "IPY_MODEL_b98ea59756154bcd840c75f2025c7023",
       "value": "  0%"
      }
     },
     "e4fa0d63920445eeb61c7fadae113a73": {
      "model_module": "@jupyter-widgets/controls",
      "model_module_version": "1.5.0",
      "model_name": "HTMLModel",
      "state": {
       "layout": "IPY_MODEL_253f92b9098c4446a876105043540af0",
       "style": "IPY_MODEL_e26b34a88ea54f9cb9e2d6e15101e8be",
       "value": "  0%"
      }
     },
     "e540e8d4d74e4d09b8743497e83a0162": {
      "model_module": "@jupyter-widgets/base",
      "model_module_version": "1.2.0",
      "model_name": "LayoutModel",
      "state": {}
     },
     "e58d7fa9ed66402bb7a7c392a7fdab89": {
      "model_module": "@jupyter-widgets/controls",
      "model_module_version": "1.5.0",
      "model_name": "HTMLModel",
      "state": {
       "layout": "IPY_MODEL_ad3dcba02e204ae6a49cd57bbb27b810",
       "style": "IPY_MODEL_4ee66f1476de4b289874193cef4d9bb4",
       "value": " 0/3 [00:00&lt;?, ?it/s]"
      }
     },
     "e634966c8c7f4198b1bd203758833536": {
      "model_module": "@jupyter-widgets/base",
      "model_module_version": "1.2.0",
      "model_name": "LayoutModel",
      "state": {
       "margin": "0px 0px 10px 0px"
      }
     },
     "e68dc675b7c244edb476a1ad122ea0d0": {
      "model_module": "@jupyter-widgets/base",
      "model_module_version": "1.2.0",
      "model_name": "LayoutModel",
      "state": {}
     },
     "e7b2b888267d47f3bf0893f690b773a8": {
      "model_module": "@jupyter-widgets/controls",
      "model_module_version": "1.5.0",
      "model_name": "HTMLModel",
      "state": {
       "layout": "IPY_MODEL_1a45500191c54d0cb68f487b27a7a9ff",
       "style": "IPY_MODEL_2c46445a69714547b7a594277af87f45",
       "value": " 0/3 [00:00&lt;?, ?it/s]"
      }
     },
     "e8b04bd6ca74438790e2edfcb28be61c": {
      "model_module": "@jupyter-widgets/controls",
      "model_module_version": "1.5.0",
      "model_name": "FloatProgressModel",
      "state": {
       "bar_style": "success",
       "layout": "IPY_MODEL_b1b5a9b487f540f59a71eb909328d89c",
       "max": 3,
       "style": "IPY_MODEL_fdc66e17444940b1b312fea7de1d033f",
       "value": 3
      }
     },
     "ed8565f690ac4955bb5f8d6a41029916": {
      "model_module": "@jupyter-widgets/controls",
      "model_module_version": "1.5.0",
      "model_name": "HTMLModel",
      "state": {
       "layout": "IPY_MODEL_db8e878273554e10985902b196f886c7",
       "style": "IPY_MODEL_720d8dfd14ad42b182f2d4bb76746cd6",
       "value": "  0%"
      }
     },
     "ed8926fc58224e4696179f727adcb069": {
      "model_module": "@jupyter-widgets/controls",
      "model_module_version": "1.5.0",
      "model_name": "HTMLModel",
      "state": {
       "layout": "IPY_MODEL_e634966c8c7f4198b1bd203758833536",
       "style": "IPY_MODEL_5805ba6ed419480ea9d562496eb50e0a",
       "value": "<p style='font-family: IBM Plex Sans, Arial, Helvetica, sans-serif; font-size: 20px; font-weight: medium;'>Circuit Properties</p>"
      }
     },
     "efc37c33f3354b81bc750c8f141e5827": {
      "model_module": "@jupyter-widgets/base",
      "model_module_version": "1.2.0",
      "model_name": "LayoutModel",
      "state": {}
     },
     "f06ce724426440728cea1804e005d85f": {
      "model_module": "@jupyter-widgets/controls",
      "model_module_version": "1.5.0",
      "model_name": "HBoxModel",
      "state": {
       "children": [
        "IPY_MODEL_e4d8fcc816924827b2c6f1d56242f551",
        "IPY_MODEL_f1537af278d648698a192e5b2165c8cf",
        "IPY_MODEL_9fd3e454240d48bea801804a440b36a5"
       ],
       "layout": "IPY_MODEL_f1fa2716732a495683ccf9c67c3fa754"
      }
     },
     "f0d1119f379d4e4eacb1fb9df78d139b": {
      "model_module": "@jupyter-widgets/base",
      "model_module_version": "1.2.0",
      "model_name": "LayoutModel",
      "state": {}
     },
     "f1537af278d648698a192e5b2165c8cf": {
      "model_module": "@jupyter-widgets/controls",
      "model_module_version": "1.5.0",
      "model_name": "FloatProgressModel",
      "state": {
       "bar_style": "danger",
       "layout": "IPY_MODEL_c5c06c7368c14501a4a1f4446ec0f38c",
       "max": 3,
       "style": "IPY_MODEL_80fb35e938e04c089ee76d8b6c458a60"
      }
     },
     "f1fa2716732a495683ccf9c67c3fa754": {
      "model_module": "@jupyter-widgets/base",
      "model_module_version": "1.2.0",
      "model_name": "LayoutModel",
      "state": {}
     },
     "f2605e81804e4277900906f8b8fbe494": {
      "model_module": "@jupyter-widgets/controls",
      "model_module_version": "1.5.0",
      "model_name": "DescriptionStyleModel",
      "state": {
       "description_width": ""
      }
     },
     "f2e9c4ad9e1549de9075693f22dd45c2": {
      "model_module": "@jupyter-widgets/controls",
      "model_module_version": "1.5.0",
      "model_name": "FloatProgressModel",
      "state": {
       "bar_style": "success",
       "layout": "IPY_MODEL_b662eeb780a14167aa2e59ad38c68511",
       "max": 3,
       "style": "IPY_MODEL_cfd9440b40c6488c9aba7a16963d569c",
       "value": 3
      }
     },
     "f47ca4a2295344d88fdf09456e450b18": {
      "model_module": "@jupyter-widgets/base",
      "model_module_version": "1.2.0",
      "model_name": "LayoutModel",
      "state": {}
     },
     "f6001f4f4e384843968d11cfd8d8ccfa": {
      "model_module": "@jupyter-widgets/controls",
      "model_module_version": "1.5.0",
      "model_name": "FloatProgressModel",
      "state": {
       "bar_style": "danger",
       "layout": "IPY_MODEL_acc8ffed71a14555b93a6c7c60cab48e",
       "max": 3,
       "style": "IPY_MODEL_ad963d64ea344165b5d5b6c0acbfd860"
      }
     },
     "f769f5083e4a4088889b499b230d1384": {
      "model_module": "@jupyter-widgets/base",
      "model_module_version": "1.2.0",
      "model_name": "LayoutModel",
      "state": {}
     },
     "f7c31c500d2e4963b5cdbb14174444e2": {
      "model_module": "@jupyter-widgets/base",
      "model_module_version": "1.2.0",
      "model_name": "LayoutModel",
      "state": {
       "grid_template_areas": "\n                                       \". . . . right \"\n                                        ",
       "grid_template_columns": "20% 20% 20% 20% 20%",
       "width": "100%"
      }
     },
     "f8701a2f55404c4489b2b06ab476bf07": {
      "model_module": "@jupyter-widgets/controls",
      "model_module_version": "1.5.0",
      "model_name": "HTMLModel",
      "state": {
       "layout": "IPY_MODEL_0e57ff3e2ef34cfd98de8cf5670b5d8f",
       "style": "IPY_MODEL_f2605e81804e4277900906f8b8fbe494",
       "value": "  0%"
      }
     },
     "fb75d1f2e0a44d50b1e35c31a402af11": {
      "model_module": "@jupyter-widgets/controls",
      "model_module_version": "1.5.0",
      "model_name": "HBoxModel",
      "state": {
       "children": [
        "IPY_MODEL_e1a7aa84178c403e9990f46cf840cd86",
        "IPY_MODEL_373ed719b4c54238b86554f670cf689d",
        "IPY_MODEL_cff6328668d64da988dcbd4714a4dcee"
       ],
       "layout": "IPY_MODEL_ab69229cf8634e659343f35f74cf0c88"
      }
     },
     "fdc66e17444940b1b312fea7de1d033f": {
      "model_module": "@jupyter-widgets/controls",
      "model_module_version": "1.5.0",
      "model_name": "ProgressStyleModel",
      "state": {
       "description_width": ""
      }
     }
    },
    "version_major": 2,
    "version_minor": 0
   }
  }
 },
 "nbformat": 4,
 "nbformat_minor": 5
}
